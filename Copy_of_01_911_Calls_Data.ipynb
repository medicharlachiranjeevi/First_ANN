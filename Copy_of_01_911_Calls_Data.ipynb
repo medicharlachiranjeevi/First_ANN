{
  "nbformat": 4,
  "nbformat_minor": 0,
  "metadata": {
    "kernelspec": {
      "display_name": "Python 3",
      "language": "python",
      "name": "python3"
    },
    "language_info": {
      "codemirror_mode": {
        "name": "ipython",
        "version": 3
      },
      "file_extension": ".py",
      "mimetype": "text/x-python",
      "name": "python",
      "nbconvert_exporter": "python",
      "pygments_lexer": "ipython3",
      "version": "3.7.3"
    },
    "colab": {
      "name": "Copy of 01-911 Calls Data.ipynb",
      "provenance": [],
      "collapsed_sections": [],
      "toc_visible": true,
      "include_colab_link": true
    }
  },
  "cells": [
    {
      "cell_type": "markdown",
      "metadata": {
        "id": "view-in-github",
        "colab_type": "text"
      },
      "source": [
        "<a href=\"https://colab.research.google.com/github/medicharlachiranjeevi/First_ANN/blob/master/Copy_of_01_911_Calls_Data.ipynb\" target=\"_parent\"><img src=\"https://colab.research.google.com/assets/colab-badge.svg\" alt=\"Open In Colab\"/></a>"
      ]
    },
    {
      "cell_type": "markdown",
      "metadata": {
        "id": "oX2qkCzlaB_R",
        "colab_type": "text"
      },
      "source": [
        "# 911 Calls Capstone Project"
      ]
    },
    {
      "cell_type": "markdown",
      "metadata": {
        "id": "g_plZtbXhZGA",
        "colab_type": "text"
      },
      "source": [
        "# New Section"
      ]
    },
    {
      "cell_type": "code",
      "metadata": {
        "id": "8HS3I1hOaoKA",
        "colab_type": "code",
        "outputId": "9c1acbaf-8914-45cb-dee0-119f35c8ccba",
        "colab": {
          "base_uri": "https://localhost:8080/",
          "height": 122
        }
      },
      "source": [
        "from google.colab import drive\n",
        "drive.mount('/content/drive')"
      ],
      "execution_count": 0,
      "outputs": [
        {
          "output_type": "stream",
          "text": [
            "Go to this URL in a browser: https://accounts.google.com/o/oauth2/auth?client_id=947318989803-6bn6qk8qdgf4n4g3pfee6491hc0brc4i.apps.googleusercontent.com&redirect_uri=urn%3aietf%3awg%3aoauth%3a2.0%3aoob&response_type=code&scope=email%20https%3a%2f%2fwww.googleapis.com%2fauth%2fdocs.test%20https%3a%2f%2fwww.googleapis.com%2fauth%2fdrive%20https%3a%2f%2fwww.googleapis.com%2fauth%2fdrive.photos.readonly%20https%3a%2f%2fwww.googleapis.com%2fauth%2fpeopleapi.readonly\n",
            "\n",
            "Enter your authorization code:\n",
            "··········\n",
            "Mounted at /content/drive\n"
          ],
          "name": "stdout"
        }
      ]
    },
    {
      "cell_type": "markdown",
      "metadata": {
        "id": "IF2WfPDvaB_S",
        "colab_type": "text"
      },
      "source": [
        "For this capstone project we will be analyzing some 911 call data. The data contains the following fields:\n",
        "\n",
        "* lat : String variable, Latitude\n",
        "* lng: String variable, Longitude\n",
        "* desc: String variable, Description of the Emergency Call\n",
        "* zip: String variable, Zipcode\n",
        "* title: String variable, Title\n",
        "* timeStamp: String variable, YYYY-MM-DD HH:MM:SS\n",
        "* twp: String variable, Township\n",
        "* addr: String variable, Address\n",
        "* e: String variable, Dummy variable (always 1)\n",
        "\n",
        "Just go along with this notebook and try to complete the instructions or answer the questions in bold using your Python and Data Science skills!"
      ]
    },
    {
      "cell_type": "markdown",
      "metadata": {
        "id": "IUcOXS1HaB_T",
        "colab_type": "text"
      },
      "source": [
        "## Data and Setup"
      ]
    },
    {
      "cell_type": "markdown",
      "metadata": {
        "id": "2dEEm12EaB_U",
        "colab_type": "text"
      },
      "source": [
        "____\n",
        "** Import numpy and pandas **"
      ]
    },
    {
      "cell_type": "code",
      "metadata": {
        "id": "7rvfn6RvaB_U",
        "colab_type": "code",
        "colab": {}
      },
      "source": [
        "import pandas as pd\n",
        "import numpy as np"
      ],
      "execution_count": 0,
      "outputs": []
    },
    {
      "cell_type": "markdown",
      "metadata": {
        "id": "FzZspxCkaB_X",
        "colab_type": "text"
      },
      "source": [
        "** Import visualization libraries and set %matplotlib inline. **"
      ]
    },
    {
      "cell_type": "code",
      "metadata": {
        "id": "slS3rbdZaB_Y",
        "colab_type": "code",
        "colab": {}
      },
      "source": [
        "import matplotlib.pyplot as plt\n",
        "%matplotlib inline"
      ],
      "execution_count": 0,
      "outputs": []
    },
    {
      "cell_type": "markdown",
      "metadata": {
        "id": "kPHt6BKkaB_Z",
        "colab_type": "text"
      },
      "source": [
        "** Read in the csv file as a dataframe called df **"
      ]
    },
    {
      "cell_type": "code",
      "metadata": {
        "id": "OAGiBxc7aB_a",
        "colab_type": "code",
        "colab": {}
      },
      "source": [
        "data=pd.read_csv('/content/drive/My Drive/911.csv')"
      ],
      "execution_count": 0,
      "outputs": []
    },
    {
      "cell_type": "markdown",
      "metadata": {
        "id": "aOPrhsXRaB_c",
        "colab_type": "text"
      },
      "source": [
        "** Check the info() of the df **"
      ]
    },
    {
      "cell_type": "code",
      "metadata": {
        "id": "oDqoAkJjaB_d",
        "colab_type": "code",
        "outputId": "555a3172-34d8-4d46-bca8-0c26c0a5da01",
        "colab": {
          "base_uri": "https://localhost:8080/",
          "height": 255
        }
      },
      "source": [
        "data.info()"
      ],
      "execution_count": 0,
      "outputs": [
        {
          "output_type": "stream",
          "text": [
            "<class 'pandas.core.frame.DataFrame'>\n",
            "RangeIndex: 99492 entries, 0 to 99491\n",
            "Data columns (total 9 columns):\n",
            "lat          99492 non-null float64\n",
            "lng          99492 non-null float64\n",
            "desc         99492 non-null object\n",
            "zip          86637 non-null float64\n",
            "title        99492 non-null object\n",
            "timeStamp    99492 non-null object\n",
            "twp          99449 non-null object\n",
            "addr         98973 non-null object\n",
            "e            99492 non-null int64\n",
            "dtypes: float64(3), int64(1), object(5)\n",
            "memory usage: 6.8+ MB\n"
          ],
          "name": "stdout"
        }
      ]
    },
    {
      "cell_type": "markdown",
      "metadata": {
        "id": "pyq_6Fq3aB_g",
        "colab_type": "text"
      },
      "source": [
        "** Check the head of df **"
      ]
    },
    {
      "cell_type": "code",
      "metadata": {
        "id": "6bGg6NjtaB_h",
        "colab_type": "code",
        "outputId": "74030e8b-5f3b-4f93-fa51-e074664183b7",
        "colab": {
          "base_uri": "https://localhost:8080/",
          "height": 476
        }
      },
      "source": [
        "data.head()"
      ],
      "execution_count": 0,
      "outputs": [
        {
          "output_type": "execute_result",
          "data": {
            "text/html": [
              "<div>\n",
              "<style scoped>\n",
              "    .dataframe tbody tr th:only-of-type {\n",
              "        vertical-align: middle;\n",
              "    }\n",
              "\n",
              "    .dataframe tbody tr th {\n",
              "        vertical-align: top;\n",
              "    }\n",
              "\n",
              "    .dataframe thead th {\n",
              "        text-align: right;\n",
              "    }\n",
              "</style>\n",
              "<table border=\"1\" class=\"dataframe\">\n",
              "  <thead>\n",
              "    <tr style=\"text-align: right;\">\n",
              "      <th></th>\n",
              "      <th>lat</th>\n",
              "      <th>lng</th>\n",
              "      <th>desc</th>\n",
              "      <th>zip</th>\n",
              "      <th>title</th>\n",
              "      <th>timeStamp</th>\n",
              "      <th>twp</th>\n",
              "      <th>addr</th>\n",
              "      <th>e</th>\n",
              "    </tr>\n",
              "  </thead>\n",
              "  <tbody>\n",
              "    <tr>\n",
              "      <th>0</th>\n",
              "      <td>40.297876</td>\n",
              "      <td>-75.581294</td>\n",
              "      <td>REINDEER CT &amp; DEAD END;  NEW HANOVER; Station ...</td>\n",
              "      <td>19525.0</td>\n",
              "      <td>EMS: BACK PAINS/INJURY</td>\n",
              "      <td>2015-12-10 17:40:00</td>\n",
              "      <td>NEW HANOVER</td>\n",
              "      <td>REINDEER CT &amp; DEAD END</td>\n",
              "      <td>1</td>\n",
              "    </tr>\n",
              "    <tr>\n",
              "      <th>1</th>\n",
              "      <td>40.258061</td>\n",
              "      <td>-75.264680</td>\n",
              "      <td>BRIAR PATH &amp; WHITEMARSH LN;  HATFIELD TOWNSHIP...</td>\n",
              "      <td>19446.0</td>\n",
              "      <td>EMS: DIABETIC EMERGENCY</td>\n",
              "      <td>2015-12-10 17:40:00</td>\n",
              "      <td>HATFIELD TOWNSHIP</td>\n",
              "      <td>BRIAR PATH &amp; WHITEMARSH LN</td>\n",
              "      <td>1</td>\n",
              "    </tr>\n",
              "    <tr>\n",
              "      <th>2</th>\n",
              "      <td>40.121182</td>\n",
              "      <td>-75.351975</td>\n",
              "      <td>HAWS AVE; NORRISTOWN; 2015-12-10 @ 14:39:21-St...</td>\n",
              "      <td>19401.0</td>\n",
              "      <td>Fire: GAS-ODOR/LEAK</td>\n",
              "      <td>2015-12-10 17:40:00</td>\n",
              "      <td>NORRISTOWN</td>\n",
              "      <td>HAWS AVE</td>\n",
              "      <td>1</td>\n",
              "    </tr>\n",
              "    <tr>\n",
              "      <th>3</th>\n",
              "      <td>40.116153</td>\n",
              "      <td>-75.343513</td>\n",
              "      <td>AIRY ST &amp; SWEDE ST;  NORRISTOWN; Station 308A;...</td>\n",
              "      <td>19401.0</td>\n",
              "      <td>EMS: CARDIAC EMERGENCY</td>\n",
              "      <td>2015-12-10 17:40:01</td>\n",
              "      <td>NORRISTOWN</td>\n",
              "      <td>AIRY ST &amp; SWEDE ST</td>\n",
              "      <td>1</td>\n",
              "    </tr>\n",
              "    <tr>\n",
              "      <th>4</th>\n",
              "      <td>40.251492</td>\n",
              "      <td>-75.603350</td>\n",
              "      <td>CHERRYWOOD CT &amp; DEAD END;  LOWER POTTSGROVE; S...</td>\n",
              "      <td>NaN</td>\n",
              "      <td>EMS: DIZZINESS</td>\n",
              "      <td>2015-12-10 17:40:01</td>\n",
              "      <td>LOWER POTTSGROVE</td>\n",
              "      <td>CHERRYWOOD CT &amp; DEAD END</td>\n",
              "      <td>1</td>\n",
              "    </tr>\n",
              "  </tbody>\n",
              "</table>\n",
              "</div>"
            ],
            "text/plain": [
              "         lat        lng  ...                        addr  e\n",
              "0  40.297876 -75.581294  ...      REINDEER CT & DEAD END  1\n",
              "1  40.258061 -75.264680  ...  BRIAR PATH & WHITEMARSH LN  1\n",
              "2  40.121182 -75.351975  ...                    HAWS AVE  1\n",
              "3  40.116153 -75.343513  ...          AIRY ST & SWEDE ST  1\n",
              "4  40.251492 -75.603350  ...    CHERRYWOOD CT & DEAD END  1\n",
              "\n",
              "[5 rows x 9 columns]"
            ]
          },
          "metadata": {
            "tags": []
          },
          "execution_count": 6
        }
      ]
    },
    {
      "cell_type": "markdown",
      "metadata": {
        "id": "mlBkp86raB_j",
        "colab_type": "text"
      },
      "source": [
        "## Basic Questions"
      ]
    },
    {
      "cell_type": "markdown",
      "metadata": {
        "id": "loGOoV04aB_j",
        "colab_type": "text"
      },
      "source": [
        "[link text](https://)** What are the top 5 zipcodes for 911 calls? **"
      ]
    },
    {
      "cell_type": "code",
      "metadata": {
        "id": "rTQVRP8GaB_k",
        "colab_type": "code",
        "outputId": "91746ae0-4093-48d9-8e03-1f40a3508092",
        "colab": {
          "base_uri": "https://localhost:8080/",
          "height": 204
        }
      },
      "source": [
        "grou=data.groupby(['zip']).size().reset_index(name='counts').sort_values(by=['counts'],ascending=False).head(5)\n",
        "grou"
      ],
      "execution_count": 0,
      "outputs": [
        {
          "output_type": "execute_result",
          "data": {
            "text/html": [
              "<div>\n",
              "<style scoped>\n",
              "    .dataframe tbody tr th:only-of-type {\n",
              "        vertical-align: middle;\n",
              "    }\n",
              "\n",
              "    .dataframe tbody tr th {\n",
              "        vertical-align: top;\n",
              "    }\n",
              "\n",
              "    .dataframe thead th {\n",
              "        text-align: right;\n",
              "    }\n",
              "</style>\n",
              "<table border=\"1\" class=\"dataframe\">\n",
              "  <thead>\n",
              "    <tr style=\"text-align: right;\">\n",
              "      <th></th>\n",
              "      <th>zip</th>\n",
              "      <th>counts</th>\n",
              "    </tr>\n",
              "  </thead>\n",
              "  <tbody>\n",
              "    <tr>\n",
              "      <th>69</th>\n",
              "      <td>19401.0</td>\n",
              "      <td>6979</td>\n",
              "    </tr>\n",
              "    <tr>\n",
              "      <th>87</th>\n",
              "      <td>19464.0</td>\n",
              "      <td>6643</td>\n",
              "    </tr>\n",
              "    <tr>\n",
              "      <th>70</th>\n",
              "      <td>19403.0</td>\n",
              "      <td>4854</td>\n",
              "    </tr>\n",
              "    <tr>\n",
              "      <th>81</th>\n",
              "      <td>19446.0</td>\n",
              "      <td>4748</td>\n",
              "    </tr>\n",
              "    <tr>\n",
              "      <th>72</th>\n",
              "      <td>19406.0</td>\n",
              "      <td>3174</td>\n",
              "    </tr>\n",
              "  </tbody>\n",
              "</table>\n",
              "</div>"
            ],
            "text/plain": [
              "        zip  counts\n",
              "69  19401.0    6979\n",
              "87  19464.0    6643\n",
              "70  19403.0    4854\n",
              "81  19446.0    4748\n",
              "72  19406.0    3174"
            ]
          },
          "metadata": {
            "tags": []
          },
          "execution_count": 7
        }
      ]
    },
    {
      "cell_type": "markdown",
      "metadata": {
        "id": "9EzmdSEEaB_l",
        "colab_type": "text"
      },
      "source": [
        "** What are the top 5 townships (twp) for 911 calls? **"
      ]
    },
    {
      "cell_type": "code",
      "metadata": {
        "id": "wOpRszwMaB_m",
        "colab_type": "code",
        "outputId": "5f7c411f-1d6c-4f0f-eaf6-f98a184d3ec7",
        "colab": {
          "base_uri": "https://localhost:8080/",
          "height": 204
        }
      },
      "source": [
        "grou=data.groupby(['twp']).size().reset_index(name='counts').sort_values(by=['counts'],ascending=False).head(5)\n",
        "grou"
      ],
      "execution_count": 0,
      "outputs": [
        {
          "output_type": "execute_result",
          "data": {
            "text/html": [
              "<div>\n",
              "<style scoped>\n",
              "    .dataframe tbody tr th:only-of-type {\n",
              "        vertical-align: middle;\n",
              "    }\n",
              "\n",
              "    .dataframe tbody tr th {\n",
              "        vertical-align: top;\n",
              "    }\n",
              "\n",
              "    .dataframe thead th {\n",
              "        text-align: right;\n",
              "    }\n",
              "</style>\n",
              "<table border=\"1\" class=\"dataframe\">\n",
              "  <thead>\n",
              "    <tr style=\"text-align: right;\">\n",
              "      <th></th>\n",
              "      <th>twp</th>\n",
              "      <th>counts</th>\n",
              "    </tr>\n",
              "  </thead>\n",
              "  <tbody>\n",
              "    <tr>\n",
              "      <th>26</th>\n",
              "      <td>LOWER MERION</td>\n",
              "      <td>8443</td>\n",
              "    </tr>\n",
              "    <tr>\n",
              "      <th>0</th>\n",
              "      <td>ABINGTON</td>\n",
              "      <td>5977</td>\n",
              "    </tr>\n",
              "    <tr>\n",
              "      <th>35</th>\n",
              "      <td>NORRISTOWN</td>\n",
              "      <td>5890</td>\n",
              "    </tr>\n",
              "    <tr>\n",
              "      <th>57</th>\n",
              "      <td>UPPER MERION</td>\n",
              "      <td>5227</td>\n",
              "    </tr>\n",
              "    <tr>\n",
              "      <th>6</th>\n",
              "      <td>CHELTENHAM</td>\n",
              "      <td>4575</td>\n",
              "    </tr>\n",
              "  </tbody>\n",
              "</table>\n",
              "</div>"
            ],
            "text/plain": [
              "             twp  counts\n",
              "26  LOWER MERION    8443\n",
              "0       ABINGTON    5977\n",
              "35    NORRISTOWN    5890\n",
              "57  UPPER MERION    5227\n",
              "6     CHELTENHAM    4575"
            ]
          },
          "metadata": {
            "tags": []
          },
          "execution_count": 8
        }
      ]
    },
    {
      "cell_type": "markdown",
      "metadata": {
        "id": "NBxbGDM0aB_o",
        "colab_type": "text"
      },
      "source": [
        "** *[italicized text](https://)* Take a look at the 'title' column, how many unique title codes are there? **"
      ]
    },
    {
      "cell_type": "code",
      "metadata": {
        "id": "-FULb0uUaB_o",
        "colab_type": "code",
        "outputId": "ffc27287-a549-42e0-d0d4-4b673570ecf1",
        "colab": {
          "base_uri": "https://localhost:8080/",
          "height": 34
        }
      },
      "source": [
        "data.title.nunique()"
      ],
      "execution_count": 0,
      "outputs": [
        {
          "output_type": "execute_result",
          "data": {
            "text/plain": [
              "110"
            ]
          },
          "metadata": {
            "tags": []
          },
          "execution_count": 9
        }
      ]
    },
    {
      "cell_type": "markdown",
      "metadata": {
        "id": "QkODCAwYaB_q",
        "colab_type": "text"
      },
      "source": [
        "## Creating new features"
      ]
    },
    {
      "cell_type": "markdown",
      "metadata": {
        "id": "ZbZxsw3xaB_r",
        "colab_type": "text"
      },
      "source": [
        "** In the titles column there are \"Reasons/Departments\" specified before the title code. These are EMS, Fire, and Traffic. Use .apply() with a custom lambda expression to create a new column called \"Reason\" that contains this string value.** \n",
        "\n",
        "**For example, if the title column value is EMS: BACK PAINS/INJURY , the Reason column value would be EMS. **"
      ]
    },
    {
      "cell_type": "code",
      "metadata": {
        "id": "IxCYe7OgaB_r",
        "colab_type": "code",
        "colab": {}
      },
      "source": [
        "data['Reason']=data.title.apply(lambda x: x.split(':')[0])\n"
      ],
      "execution_count": 0,
      "outputs": []
    },
    {
      "cell_type": "markdown",
      "metadata": {
        "id": "hQQMD5h_aB_u",
        "colab_type": "text"
      },
      "source": [
        "** What is the most common Reason for a 911 call based off of this new column? **"
      ]
    },
    {
      "cell_type": "code",
      "metadata": {
        "id": "VxD36wQsaB_u",
        "colab_type": "code",
        "outputId": "6200b4aa-fd8c-4535-a27e-92c53cb0edf7",
        "colab": {
          "base_uri": "https://localhost:8080/",
          "height": 142
        }
      },
      "source": [
        "group=data.groupby(['Reason']).size().reset_index(name='counts').sort_values(by=['counts'],ascending=False)\n",
        "group"
      ],
      "execution_count": 0,
      "outputs": [
        {
          "output_type": "execute_result",
          "data": {
            "text/html": [
              "<div>\n",
              "<style scoped>\n",
              "    .dataframe tbody tr th:only-of-type {\n",
              "        vertical-align: middle;\n",
              "    }\n",
              "\n",
              "    .dataframe tbody tr th {\n",
              "        vertical-align: top;\n",
              "    }\n",
              "\n",
              "    .dataframe thead th {\n",
              "        text-align: right;\n",
              "    }\n",
              "</style>\n",
              "<table border=\"1\" class=\"dataframe\">\n",
              "  <thead>\n",
              "    <tr style=\"text-align: right;\">\n",
              "      <th></th>\n",
              "      <th>Reason</th>\n",
              "      <th>counts</th>\n",
              "    </tr>\n",
              "  </thead>\n",
              "  <tbody>\n",
              "    <tr>\n",
              "      <th>0</th>\n",
              "      <td>EMS</td>\n",
              "      <td>48877</td>\n",
              "    </tr>\n",
              "    <tr>\n",
              "      <th>2</th>\n",
              "      <td>Traffic</td>\n",
              "      <td>35695</td>\n",
              "    </tr>\n",
              "    <tr>\n",
              "      <th>1</th>\n",
              "      <td>Fire</td>\n",
              "      <td>14920</td>\n",
              "    </tr>\n",
              "  </tbody>\n",
              "</table>\n",
              "</div>"
            ],
            "text/plain": [
              "    Reason  counts\n",
              "0      EMS   48877\n",
              "2  Traffic   35695\n",
              "1     Fire   14920"
            ]
          },
          "metadata": {
            "tags": []
          },
          "execution_count": 11
        }
      ]
    },
    {
      "cell_type": "markdown",
      "metadata": {
        "id": "s0IoPiXCaB_w",
        "colab_type": "text"
      },
      "source": [
        "** Now use seaborn to create a countplot of 911 calls by Reason. **"
      ]
    },
    {
      "cell_type": "code",
      "metadata": {
        "id": "rOSJ2Dh8aB_x",
        "colab_type": "code",
        "outputId": "fd2512e9-2ca5-4acd-df73-3f77a471b5e8",
        "colab": {
          "base_uri": "https://localhost:8080/",
          "height": 296
        }
      },
      "source": [
        "import seaborn as sn\n",
        "sn.barplot(y='counts',x='Reason',data=group)"
      ],
      "execution_count": 0,
      "outputs": [
        {
          "output_type": "execute_result",
          "data": {
            "text/plain": [
              "<matplotlib.axes._subplots.AxesSubplot at 0x7f899d3765f8>"
            ]
          },
          "metadata": {
            "tags": []
          },
          "execution_count": 12
        },
        {
          "output_type": "display_data",
          "data": {
            "image/png": "[encoded data removed]",
            "text/plain": [
              "<Figure size 432x288 with 1 Axes>"
            ]
          },
          "metadata": {
            "tags": []
          }
        }
      ]
    },
    {
      "cell_type": "markdown",
      "metadata": {
        "id": "XIxj6CbxaB_z",
        "colab_type": "text"
      },
      "source": [
        "___\n",
        "** Now let us begin to focus on time information. What is the data type of the objects in the timeStamp column? **"
      ]
    },
    {
      "cell_type": "code",
      "metadata": {
        "id": "nsc-qokfaB_z",
        "colab_type": "code",
        "colab": {}
      },
      "source": [
        "data['timeStamp']=pd.to_datetime(data.timeStamp)"
      ],
      "execution_count": 0,
      "outputs": []
    },
    {
      "cell_type": "markdown",
      "metadata": {
        "id": "HsRRUa0ZaB_1",
        "colab_type": "text"
      },
      "source": [
        "** You should have seen that these timestamps are still strings. Use pd.to_datetime to convert the column from strings to DateTime objects. **"
      ]
    },
    {
      "cell_type": "code",
      "metadata": {
        "id": "yQZ3p5a-aB_2",
        "colab_type": "code",
        "colab": {}
      },
      "source": [
        ""
      ],
      "execution_count": 0,
      "outputs": []
    },
    {
      "cell_type": "markdown",
      "metadata": {
        "id": "3JX17lR5aB_3",
        "colab_type": "text"
      },
      "source": [
        "** You can now grab specific attributes from a Datetime object by calling them. For example:**\n",
        "\n",
        "    time = df['timeStamp'].iloc[0]\n",
        "    time.hour\n",
        "\n",
        "**You can use Jupyter's tab method to explore the various attributes you can call. Now that the timestamp column are actually DateTime objects, use .apply() to create 3 new columns called Hour, Month, and Day of Week. You will create these columns based off of the timeStamp column, reference the solutions if you get stuck on this step.**"
      ]
    },
    {
      "cell_type": "code",
      "metadata": {
        "id": "Rl2T9VCGaB_4",
        "colab_type": "code",
        "colab": {}
      },
      "source": [
        "data['Hour']=data.timeStamp.apply(lambda x: x.hour)\n",
        "data['Day']=data.timeStamp.apply(lambda x: x.month)\n",
        "data['DayOfWeek']=data.timeStamp.apply(lambda x: x.dayofweek)\n"
      ],
      "execution_count": 0,
      "outputs": []
    },
    {
      "cell_type": "code",
      "metadata": {
        "id": "KKghjNiwwmif",
        "colab_type": "code",
        "colab": {}
      },
      "source": [
        "data['Month']=data.timeStamp.apply(lambda x: x.month)"
      ],
      "execution_count": 0,
      "outputs": []
    },
    {
      "cell_type": "markdown",
      "metadata": {
        "id": "JRhNMps-aB_5",
        "colab_type": "text"
      },
      "source": [
        "** Notice how the Day of Week is an integer 0-6. Use the .map() with this dictionary to map the actual string names to the day of the week: **\n",
        "\n",
        "    dmap = {0:'Mon',1:'Tue',2:'Wed',3:'Thu',4:'Fri',5:'Sat',6:'Sun'}"
      ]
    },
    {
      "cell_type": "code",
      "metadata": {
        "id": "-51MwZxVaB_6",
        "colab_type": "code",
        "colab": {}
      },
      "source": [
        "dmap = {0:'Mon',1:'Tue',2:'Wed',3:'Thu',4:'Fri',5:'Sat',6:'Sun'}\n",
        "data['DayOfWeek']=data.DayOfWeek.map(dmap)\n"
      ],
      "execution_count": 0,
      "outputs": []
    },
    {
      "cell_type": "code",
      "metadata": {
        "id": "ChZHDDk6aB_9",
        "colab_type": "code",
        "outputId": "773dd3e0-c618-4c43-c6a2-6ed683a1164c",
        "colab": {
          "base_uri": "https://localhost:8080/",
          "height": 700
        }
      },
      "source": [
        "group=data.groupby(['DayOfWeek','Reason']).size().reset_index(name='counts').sort_values(by=['counts'],ascending=False)\n",
        "group"
      ],
      "execution_count": 0,
      "outputs": [
        {
          "output_type": "execute_result",
          "data": {
            "text/html": [
              "<div>\n",
              "<style scoped>\n",
              "    .dataframe tbody tr th:only-of-type {\n",
              "        vertical-align: middle;\n",
              "    }\n",
              "\n",
              "    .dataframe tbody tr th {\n",
              "        vertical-align: top;\n",
              "    }\n",
              "\n",
              "    .dataframe thead th {\n",
              "        text-align: right;\n",
              "    }\n",
              "</style>\n",
              "<table border=\"1\" class=\"dataframe\">\n",
              "  <thead>\n",
              "    <tr style=\"text-align: right;\">\n",
              "      <th></th>\n",
              "      <th>DayOfWeek</th>\n",
              "      <th>Reason</th>\n",
              "      <th>counts</th>\n",
              "    </tr>\n",
              "  </thead>\n",
              "  <tbody>\n",
              "    <tr>\n",
              "      <th>0</th>\n",
              "      <td>Fri</td>\n",
              "      <td>EMS</td>\n",
              "      <td>7315</td>\n",
              "    </tr>\n",
              "    <tr>\n",
              "      <th>3</th>\n",
              "      <td>Mon</td>\n",
              "      <td>EMS</td>\n",
              "      <td>7240</td>\n",
              "    </tr>\n",
              "    <tr>\n",
              "      <th>15</th>\n",
              "      <td>Tue</td>\n",
              "      <td>EMS</td>\n",
              "      <td>7222</td>\n",
              "    </tr>\n",
              "    <tr>\n",
              "      <th>12</th>\n",
              "      <td>Thu</td>\n",
              "      <td>EMS</td>\n",
              "      <td>6993</td>\n",
              "    </tr>\n",
              "    <tr>\n",
              "      <th>18</th>\n",
              "      <td>Wed</td>\n",
              "      <td>EMS</td>\n",
              "      <td>6966</td>\n",
              "    </tr>\n",
              "    <tr>\n",
              "      <th>6</th>\n",
              "      <td>Sat</td>\n",
              "      <td>EMS</td>\n",
              "      <td>6685</td>\n",
              "    </tr>\n",
              "    <tr>\n",
              "      <th>9</th>\n",
              "      <td>Sun</td>\n",
              "      <td>EMS</td>\n",
              "      <td>6456</td>\n",
              "    </tr>\n",
              "    <tr>\n",
              "      <th>17</th>\n",
              "      <td>Tue</td>\n",
              "      <td>Traffic</td>\n",
              "      <td>5807</td>\n",
              "    </tr>\n",
              "    <tr>\n",
              "      <th>20</th>\n",
              "      <td>Wed</td>\n",
              "      <td>Traffic</td>\n",
              "      <td>5686</td>\n",
              "    </tr>\n",
              "    <tr>\n",
              "      <th>2</th>\n",
              "      <td>Fri</td>\n",
              "      <td>Traffic</td>\n",
              "      <td>5430</td>\n",
              "    </tr>\n",
              "    <tr>\n",
              "      <th>14</th>\n",
              "      <td>Thu</td>\n",
              "      <td>Traffic</td>\n",
              "      <td>5349</td>\n",
              "    </tr>\n",
              "    <tr>\n",
              "      <th>5</th>\n",
              "      <td>Mon</td>\n",
              "      <td>Traffic</td>\n",
              "      <td>5236</td>\n",
              "    </tr>\n",
              "    <tr>\n",
              "      <th>8</th>\n",
              "      <td>Sat</td>\n",
              "      <td>Traffic</td>\n",
              "      <td>4583</td>\n",
              "    </tr>\n",
              "    <tr>\n",
              "      <th>11</th>\n",
              "      <td>Sun</td>\n",
              "      <td>Traffic</td>\n",
              "      <td>3604</td>\n",
              "    </tr>\n",
              "    <tr>\n",
              "      <th>19</th>\n",
              "      <td>Wed</td>\n",
              "      <td>Fire</td>\n",
              "      <td>2227</td>\n",
              "    </tr>\n",
              "    <tr>\n",
              "      <th>4</th>\n",
              "      <td>Mon</td>\n",
              "      <td>Fire</td>\n",
              "      <td>2204</td>\n",
              "    </tr>\n",
              "    <tr>\n",
              "      <th>13</th>\n",
              "      <td>Thu</td>\n",
              "      <td>Fire</td>\n",
              "      <td>2136</td>\n",
              "    </tr>\n",
              "    <tr>\n",
              "      <th>16</th>\n",
              "      <td>Tue</td>\n",
              "      <td>Fire</td>\n",
              "      <td>2121</td>\n",
              "    </tr>\n",
              "    <tr>\n",
              "      <th>1</th>\n",
              "      <td>Fri</td>\n",
              "      <td>Fire</td>\n",
              "      <td>2088</td>\n",
              "    </tr>\n",
              "    <tr>\n",
              "      <th>10</th>\n",
              "      <td>Sun</td>\n",
              "      <td>Fire</td>\n",
              "      <td>2076</td>\n",
              "    </tr>\n",
              "    <tr>\n",
              "      <th>7</th>\n",
              "      <td>Sat</td>\n",
              "      <td>Fire</td>\n",
              "      <td>2068</td>\n",
              "    </tr>\n",
              "  </tbody>\n",
              "</table>\n",
              "</div>"
            ],
            "text/plain": [
              "   DayOfWeek   Reason  counts\n",
              "0        Fri      EMS    7315\n",
              "3        Mon      EMS    7240\n",
              "15       Tue      EMS    7222\n",
              "12       Thu      EMS    6993\n",
              "18       Wed      EMS    6966\n",
              "6        Sat      EMS    6685\n",
              "9        Sun      EMS    6456\n",
              "17       Tue  Traffic    5807\n",
              "20       Wed  Traffic    5686\n",
              "2        Fri  Traffic    5430\n",
              "14       Thu  Traffic    5349\n",
              "5        Mon  Traffic    5236\n",
              "8        Sat  Traffic    4583\n",
              "11       Sun  Traffic    3604\n",
              "19       Wed     Fire    2227\n",
              "4        Mon     Fire    2204\n",
              "13       Thu     Fire    2136\n",
              "16       Tue     Fire    2121\n",
              "1        Fri     Fire    2088\n",
              "10       Sun     Fire    2076\n",
              "7        Sat     Fire    2068"
            ]
          },
          "metadata": {
            "tags": []
          },
          "execution_count": 17
        }
      ]
    },
    {
      "cell_type": "markdown",
      "metadata": {
        "id": "mexsSndPaCAC",
        "colab_type": "text"
      },
      "source": [
        "** Now use seaborn to create a countplot of the Day of Week column with the hue based off of the Reason column. **"
      ]
    },
    {
      "cell_type": "code",
      "metadata": {
        "id": "HeCX4RHYaCAC",
        "colab_type": "code",
        "outputId": "93884de1-6a25-430d-f08f-d96148485a11",
        "colab": {
          "base_uri": "https://localhost:8080/",
          "height": 296
        }
      },
      "source": [
        "sn.barplot(y='counts',x='DayOfWeek',hue='Reason',data=group)"
      ],
      "execution_count": 0,
      "outputs": [
        {
          "output_type": "execute_result",
          "data": {
            "text/plain": [
              "<matplotlib.axes._subplots.AxesSubplot at 0x7f899cddc438>"
            ]
          },
          "metadata": {
            "tags": []
          },
          "execution_count": 18
        },
        {
          "output_type": "display_data",
          "data": {
            "image/png": "[encoded data removed]",
            "text/plain": [
              "<Figure size 432x288 with 1 Axes>"
            ]
          },
          "metadata": {
            "tags": []
          }
        }
      ]
    },
    {
      "cell_type": "markdown",
      "metadata": {
        "id": "oBXREsWiaCAE",
        "colab_type": "text"
      },
      "source": [
        "**Now do the same for Month:**"
      ]
    },
    {
      "cell_type": "code",
      "metadata": {
        "id": "RfU-lAekaCAE",
        "colab_type": "code",
        "outputId": "dc7acf15-b1f1-4202-98fe-4e7294e670aa",
        "colab": {
          "base_uri": "https://localhost:8080/",
          "height": 296
        }
      },
      "source": [
        "group=data.groupby(['Month','Reason']).size().reset_index(name='counts').sort_values(by=['counts'],ascending=False)\n",
        "group\n",
        "sn.barplot(y='counts',x='Month',hue='Reason',data=group)"
      ],
      "execution_count": 0,
      "outputs": [
        {
          "output_type": "execute_result",
          "data": {
            "text/plain": [
              "<matplotlib.axes._subplots.AxesSubplot at 0x7f899ccd1240>"
            ]
          },
          "metadata": {
            "tags": []
          },
          "execution_count": 19
        },
        {
          "output_type": "display_data",
          "data": {
            "image/png": "[encoded data removed]",
            "text/plain": [
              "<Figure size 432x288 with 1 Axes>"
            ]
          },
          "metadata": {
            "tags": []
          }
        }
      ]
    },
    {
      "cell_type": "markdown",
      "metadata": {
        "id": "nBFi2k7faCAG",
        "colab_type": "text"
      },
      "source": [
        "**Did you notice something strange about the Plot?**\n",
        "\n",
        "_____\n",
        "\n",
        "** You should have noticed it was missing some Months, let's see if we can maybe fill in this information by plotting the information in another way, possibly a simple line plot that fills in the missing months, in order to do this, we'll need to do some work with pandas... **"
      ]
    },
    {
      "cell_type": "markdown",
      "metadata": {
        "id": "iT8SAl0kaCAH",
        "colab_type": "text"
      },
      "source": [
        "** Now create a gropuby object called byMonth, where you group the DataFrame by the month column and use the count() method for aggregation. Use the head() method on this returned DataFrame. **"
      ]
    },
    {
      "cell_type": "code",
      "metadata": {
        "id": "4qOt9WM9aCAH",
        "colab_type": "code",
        "outputId": "3ffe939b-f2d2-4e34-9db8-52036a7e8f38",
        "colab": {
          "base_uri": "https://localhost:8080/",
          "height": 235
        }
      },
      "source": [
        "data.groupby(['Month']).count().head()"
      ],
      "execution_count": 21,
      "outputs": [
        {
          "output_type": "execute_result",
          "data": {
            "text/html": [
              "<div>\n",
              "<style scoped>\n",
              "    .dataframe tbody tr th:only-of-type {\n",
              "        vertical-align: middle;\n",
              "    }\n",
              "\n",
              "    .dataframe tbody tr th {\n",
              "        vertical-align: top;\n",
              "    }\n",
              "\n",
              "    .dataframe thead th {\n",
              "        text-align: right;\n",
              "    }\n",
              "</style>\n",
              "<table border=\"1\" class=\"dataframe\">\n",
              "  <thead>\n",
              "    <tr style=\"text-align: right;\">\n",
              "      <th></th>\n",
              "      <th>lat</th>\n",
              "      <th>lng</th>\n",
              "      <th>desc</th>\n",
              "      <th>zip</th>\n",
              "      <th>title</th>\n",
              "      <th>timeStamp</th>\n",
              "      <th>twp</th>\n",
              "      <th>addr</th>\n",
              "      <th>e</th>\n",
              "      <th>Reason</th>\n",
              "      <th>Hour</th>\n",
              "      <th>Day</th>\n",
              "      <th>DayOfWeek</th>\n",
              "    </tr>\n",
              "    <tr>\n",
              "      <th>Month</th>\n",
              "      <th></th>\n",
              "      <th></th>\n",
              "      <th></th>\n",
              "      <th></th>\n",
              "      <th></th>\n",
              "      <th></th>\n",
              "      <th></th>\n",
              "      <th></th>\n",
              "      <th></th>\n",
              "      <th></th>\n",
              "      <th></th>\n",
              "      <th></th>\n",
              "      <th></th>\n",
              "    </tr>\n",
              "  </thead>\n",
              "  <tbody>\n",
              "    <tr>\n",
              "      <th>1</th>\n",
              "      <td>13205</td>\n",
              "      <td>13205</td>\n",
              "      <td>13205</td>\n",
              "      <td>11527</td>\n",
              "      <td>13205</td>\n",
              "      <td>13205</td>\n",
              "      <td>13203</td>\n",
              "      <td>13096</td>\n",
              "      <td>13205</td>\n",
              "      <td>13205</td>\n",
              "      <td>13205</td>\n",
              "      <td>13205</td>\n",
              "      <td>13205</td>\n",
              "    </tr>\n",
              "    <tr>\n",
              "      <th>2</th>\n",
              "      <td>11467</td>\n",
              "      <td>11467</td>\n",
              "      <td>11467</td>\n",
              "      <td>9930</td>\n",
              "      <td>11467</td>\n",
              "      <td>11467</td>\n",
              "      <td>11465</td>\n",
              "      <td>11396</td>\n",
              "      <td>11467</td>\n",
              "      <td>11467</td>\n",
              "      <td>11467</td>\n",
              "      <td>11467</td>\n",
              "      <td>11467</td>\n",
              "    </tr>\n",
              "    <tr>\n",
              "      <th>3</th>\n",
              "      <td>11101</td>\n",
              "      <td>11101</td>\n",
              "      <td>11101</td>\n",
              "      <td>9755</td>\n",
              "      <td>11101</td>\n",
              "      <td>11101</td>\n",
              "      <td>11092</td>\n",
              "      <td>11059</td>\n",
              "      <td>11101</td>\n",
              "      <td>11101</td>\n",
              "      <td>11101</td>\n",
              "      <td>11101</td>\n",
              "      <td>11101</td>\n",
              "    </tr>\n",
              "    <tr>\n",
              "      <th>4</th>\n",
              "      <td>11326</td>\n",
              "      <td>11326</td>\n",
              "      <td>11326</td>\n",
              "      <td>9895</td>\n",
              "      <td>11326</td>\n",
              "      <td>11326</td>\n",
              "      <td>11323</td>\n",
              "      <td>11283</td>\n",
              "      <td>11326</td>\n",
              "      <td>11326</td>\n",
              "      <td>11326</td>\n",
              "      <td>11326</td>\n",
              "      <td>11326</td>\n",
              "    </tr>\n",
              "    <tr>\n",
              "      <th>5</th>\n",
              "      <td>11423</td>\n",
              "      <td>11423</td>\n",
              "      <td>11423</td>\n",
              "      <td>9946</td>\n",
              "      <td>11423</td>\n",
              "      <td>11423</td>\n",
              "      <td>11420</td>\n",
              "      <td>11378</td>\n",
              "      <td>11423</td>\n",
              "      <td>11423</td>\n",
              "      <td>11423</td>\n",
              "      <td>11423</td>\n",
              "      <td>11423</td>\n",
              "    </tr>\n",
              "  </tbody>\n",
              "</table>\n",
              "</div>"
            ],
            "text/plain": [
              "         lat    lng   desc    zip  ...  Reason   Hour    Day  DayOfWeek\n",
              "Month                              ...                                 \n",
              "1      13205  13205  13205  11527  ...   13205  13205  13205      13205\n",
              "2      11467  11467  11467   9930  ...   11467  11467  11467      11467\n",
              "3      11101  11101  11101   9755  ...   11101  11101  11101      11101\n",
              "4      11326  11326  11326   9895  ...   11326  11326  11326      11326\n",
              "5      11423  11423  11423   9946  ...   11423  11423  11423      11423\n",
              "\n",
              "[5 rows x 13 columns]"
            ]
          },
          "metadata": {
            "tags": []
          },
          "execution_count": 21
        }
      ]
    },
    {
      "cell_type": "markdown",
      "metadata": {
        "id": "VM2WYqzcaCAJ",
        "colab_type": "text"
      },
      "source": [
        "** Now create a simple plot off of the dataframe indicating the count of calls per month. **"
      ]
    },
    {
      "cell_type": "code",
      "metadata": {
        "id": "tjLgV0LTaCAJ",
        "colab_type": "code",
        "outputId": "0a63d234-7137-4a8a-9484-6bb9cccc53e2",
        "colab": {
          "base_uri": "https://localhost:8080/",
          "height": 296
        }
      },
      "source": [
        "df=data.groupby(['Month']).size().reset_index(name='counts')\n",
        "sn.lineplot(data=df,x='Month',y='counts')"
      ],
      "execution_count": 25,
      "outputs": [
        {
          "output_type": "execute_result",
          "data": {
            "text/plain": [
              "<matplotlib.axes._subplots.AxesSubplot at 0x7f899b073b38>"
            ]
          },
          "metadata": {
            "tags": []
          },
          "execution_count": 25
        },
        {
          "output_type": "display_data",
          "data": {
            "image/png": "[encoded data removed]",
            "text/plain": [
              "<Figure size 432x288 with 1 Axes>"
            ]
          },
          "metadata": {
            "tags": []
          }
        }
      ]
    },
    {
      "cell_type": "markdown",
      "metadata": {
        "id": "RrH4jCwnaCAL",
        "colab_type": "text"
      },
      "source": [
        "![alt text](https://)** Now see if you can use seaborn's lmplot() to create a linear fit on the number of calls per month. Keep in mind you may need to reset the index to a column. **"
      ]
    },
    {
      "cell_type": "code",
      "metadata": {
        "id": "1mpFeBDVaCAM",
        "colab_type": "code",
        "outputId": "0b310ad8-55de-432f-b28d-71c9d3f4e03b",
        "colab": {
          "base_uri": "https://localhost:8080/",
          "height": 386
        }
      },
      "source": [
        "sn.lmplot(x=\"Month\", y=\"counts\", data=df)"
      ],
      "execution_count": 26,
      "outputs": [
        {
          "output_type": "execute_result",
          "data": {
            "text/plain": [
              "<seaborn.axisgrid.FacetGrid at 0x7f899b058588>"
            ]
          },
          "metadata": {
            "tags": []
          },
          "execution_count": 26
        },
        {
          "output_type": "display_data",
          "data": {
            "image/png": "[encoded data removed]",
            "text/plain": [
              "<Figure size 360x360 with 1 Axes>"
            ]
          },
          "metadata": {
            "tags": []
          }
        }
      ]
    },
    {
      "cell_type": "markdown",
      "metadata": {
        "id": "NIymHmxjaCAN",
        "colab_type": "text"
      },
      "source": [
        "**Create a new column called 'Date' that contains the date from the timeStamp column. You'll need to use apply along with the .date() method. ** "
      ]
    },
    {
      "cell_type": "code",
      "metadata": {
        "id": "mjLduQjgaCAO",
        "colab_type": "code",
        "colab": {}
      },
      "source": [
        "data['Date']=data.timeStamp.apply(lambda x: x.date())"
      ],
      "execution_count": 0,
      "outputs": []
    },
    {
      "cell_type": "markdown",
      "metadata": {
        "id": "SheyKNXIaCAP",
        "colab_type": "text"
      },
      "source": [
        "** Now groupby this Date column with the count() aggregate and create a plot of counts of 911 calls.**"
      ]
    },
    {
      "cell_type": "code",
      "metadata": {
        "id": "O4aDZmtIaCAQ",
        "colab_type": "code",
        "outputId": "6207e6c1-be2d-42d7-8dc4-d0ad6883b55c",
        "colab": {
          "base_uri": "https://localhost:8080/",
          "height": 345
        }
      },
      "source": [
        "df=data.groupby(['Date']).size().reset_index(name='counts')\n",
        "sn.lineplot(data=df,x='Date',y='counts')\n",
        "plt.xticks(rotation=90)\n"
      ],
      "execution_count": 64,
      "outputs": [
        {
          "output_type": "execute_result",
          "data": {
            "text/plain": [
              "(array([735933., 735964., 735995., 736024., 736055., 736085., 736116.,\n",
              "        736146., 736177., 736208.]), <a list of 10 Text xticklabel objects>)"
            ]
          },
          "metadata": {
            "tags": []
          },
          "execution_count": 64
        },
        {
          "output_type": "display_data",
          "data": {
            "image/png": "[encoded data removed]",
            "text/plain": [
              "<Figure size 432x288 with 1 Axes>"
            ]
          },
          "metadata": {
            "tags": []
          }
        }
      ]
    },
    {
      "cell_type": "markdown",
      "metadata": {
        "id": "0tCO3HBoaCAS",
        "colab_type": "text"
      },
      "source": [
        "** Now recreate this plot but create 3 separate plots with each plot representing a Reason for the 911 call**"
      ]
    },
    {
      "cell_type": "code",
      "metadata": {
        "id": "gKSNfbiraCAT",
        "colab_type": "code",
        "outputId": "b278c499-1810-42a9-c69f-fe14d97d5622",
        "colab": {
          "base_uri": "https://localhost:8080/",
          "height": 345
        }
      },
      "source": [
        "df=data.loc[data[\"Reason\"]=='Traffic'].groupby(['Date']).size().reset_index(name='counts')\n",
        "sn.lineplot(data=df,x='Date',y='counts')\n",
        "plt.xticks(rotation=90)\n"
      ],
      "execution_count": 65,
      "outputs": [
        {
          "output_type": "execute_result",
          "data": {
            "text/plain": [
              "(array([735933., 735964., 735995., 736024., 736055., 736085., 736116.,\n",
              "        736146., 736177., 736208.]), <a list of 10 Text xticklabel objects>)"
            ]
          },
          "metadata": {
            "tags": []
          },
          "execution_count": 65
        },
        {
          "output_type": "display_data",
          "data": {
            "image/png": "[encoded data removed]",
            "text/plain": [
              "<Figure size 432x288 with 1 Axes>"
            ]
          },
          "metadata": {
            "tags": []
          }
        }
      ]
    },
    {
      "cell_type": "code",
      "metadata": {
        "id": "JWwb-IVJaCAV",
        "colab_type": "code",
        "outputId": "869d0df2-3fbb-4344-cd94-0c7122841787",
        "colab": {
          "base_uri": "https://localhost:8080/",
          "height": 348
        }
      },
      "source": [
        "df=data.loc[data[\"Reason\"]=='Fire'].groupby(['Date']).size().reset_index(name='counts')\n",
        "sn.lineplot(data=df,x='Date',y='counts')\n",
        "plt.xticks(rotation=90)\n"
      ],
      "execution_count": 66,
      "outputs": [
        {
          "output_type": "execute_result",
          "data": {
            "text/plain": [
              "(array([735933., 735964., 735995., 736024., 736055., 736085., 736116.,\n",
              "        736146., 736177., 736208.]), <a list of 10 Text xticklabel objects>)"
            ]
          },
          "metadata": {
            "tags": []
          },
          "execution_count": 66
        },
        {
          "output_type": "display_data",
          "data": {
            "image/png": "[encoded data removed]",
            "text/plain": [
              "<Figure size 432x288 with 1 Axes>"
            ]
          },
          "metadata": {
            "tags": []
          }
        }
      ]
    },
    {
      "cell_type": "code",
      "metadata": {
        "id": "hUuWla0IaCAX",
        "colab_type": "code",
        "outputId": "9736cbae-38ba-46db-c208-3f0ba3881040",
        "colab": {
          "base_uri": "https://localhost:8080/",
          "height": 345
        }
      },
      "source": [
        "df=data.loc[data[\"Reason\"]=='EMS'].groupby(['Date']).size().reset_index(name='counts')\n",
        "sn.lineplot(data=df,x='Date',y='counts')\n",
        "plt.xticks(rotation=90)\n"
      ],
      "execution_count": 67,
      "outputs": [
        {
          "output_type": "execute_result",
          "data": {
            "text/plain": [
              "(array([735933., 735964., 735995., 736024., 736055., 736085., 736116.,\n",
              "        736146., 736177., 736208.]), <a list of 10 Text xticklabel objects>)"
            ]
          },
          "metadata": {
            "tags": []
          },
          "execution_count": 67
        },
        {
          "output_type": "display_data",
          "data": {
            "image/png": "[encoded data removed]",
            "text/plain": [
              "<Figure size 432x288 with 1 Axes>"
            ]
          },
          "metadata": {
            "tags": []
          }
        }
      ]
    },
    {
      "cell_type": "markdown",
      "metadata": {
        "id": "Ydzcnz9RaCAZ",
        "colab_type": "text"
      },
      "source": [
        "____\n",
        "** Now let's move on to creating  heatmaps with seaborn and our data. We'll first need to restructure the dataframe so that the columns become the Hours and the Index becomes the Day of the Week. There are lots of ways to do this, but I would recommend trying to combine groupby with an unstack method. Reference the solutions if you get stuck on this!**"
      ]
    },
    {
      "cell_type": "code",
      "metadata": {
        "id": "YfxB2LsuaCAa",
        "colab_type": "code",
        "outputId": "f745d80e-7ca9-4486-fcd0-86265ebaf99e",
        "colab": {
          "base_uri": "https://localhost:8080/",
          "height": 317
        }
      },
      "source": [
        "data.groupby(['DayOfWeek','Hour']).count().unstack()['lat']\n"
      ],
      "execution_count": 120,
      "outputs": [
        {
          "output_type": "execute_result",
          "data": {
            "text/html": [
              "<div>\n",
              "<style scoped>\n",
              "    .dataframe tbody tr th:only-of-type {\n",
              "        vertical-align: middle;\n",
              "    }\n",
              "\n",
              "    .dataframe tbody tr th {\n",
              "        vertical-align: top;\n",
              "    }\n",
              "\n",
              "    .dataframe thead th {\n",
              "        text-align: right;\n",
              "    }\n",
              "</style>\n",
              "<table border=\"1\" class=\"dataframe\">\n",
              "  <thead>\n",
              "    <tr style=\"text-align: right;\">\n",
              "      <th>Hour</th>\n",
              "      <th>0</th>\n",
              "      <th>1</th>\n",
              "      <th>2</th>\n",
              "      <th>3</th>\n",
              "      <th>4</th>\n",
              "      <th>5</th>\n",
              "      <th>6</th>\n",
              "      <th>7</th>\n",
              "      <th>8</th>\n",
              "      <th>9</th>\n",
              "      <th>10</th>\n",
              "      <th>11</th>\n",
              "      <th>12</th>\n",
              "      <th>13</th>\n",
              "      <th>14</th>\n",
              "      <th>15</th>\n",
              "      <th>16</th>\n",
              "      <th>17</th>\n",
              "      <th>18</th>\n",
              "      <th>19</th>\n",
              "      <th>20</th>\n",
              "      <th>21</th>\n",
              "      <th>22</th>\n",
              "      <th>23</th>\n",
              "    </tr>\n",
              "    <tr>\n",
              "      <th>DayOfWeek</th>\n",
              "      <th></th>\n",
              "      <th></th>\n",
              "      <th></th>\n",
              "      <th></th>\n",
              "      <th></th>\n",
              "      <th></th>\n",
              "      <th></th>\n",
              "      <th></th>\n",
              "      <th></th>\n",
              "      <th></th>\n",
              "      <th></th>\n",
              "      <th></th>\n",
              "      <th></th>\n",
              "      <th></th>\n",
              "      <th></th>\n",
              "      <th></th>\n",
              "      <th></th>\n",
              "      <th></th>\n",
              "      <th></th>\n",
              "      <th></th>\n",
              "      <th></th>\n",
              "      <th></th>\n",
              "      <th></th>\n",
              "      <th></th>\n",
              "    </tr>\n",
              "  </thead>\n",
              "  <tbody>\n",
              "    <tr>\n",
              "      <th>Fri</th>\n",
              "      <td>275</td>\n",
              "      <td>235</td>\n",
              "      <td>191</td>\n",
              "      <td>175</td>\n",
              "      <td>201</td>\n",
              "      <td>194</td>\n",
              "      <td>372</td>\n",
              "      <td>598</td>\n",
              "      <td>742</td>\n",
              "      <td>752</td>\n",
              "      <td>803</td>\n",
              "      <td>859</td>\n",
              "      <td>885</td>\n",
              "      <td>890</td>\n",
              "      <td>932</td>\n",
              "      <td>980</td>\n",
              "      <td>1039</td>\n",
              "      <td>980</td>\n",
              "      <td>820</td>\n",
              "      <td>696</td>\n",
              "      <td>667</td>\n",
              "      <td>559</td>\n",
              "      <td>514</td>\n",
              "      <td>474</td>\n",
              "    </tr>\n",
              "    <tr>\n",
              "      <th>Mon</th>\n",
              "      <td>282</td>\n",
              "      <td>221</td>\n",
              "      <td>201</td>\n",
              "      <td>194</td>\n",
              "      <td>204</td>\n",
              "      <td>267</td>\n",
              "      <td>397</td>\n",
              "      <td>653</td>\n",
              "      <td>819</td>\n",
              "      <td>786</td>\n",
              "      <td>793</td>\n",
              "      <td>822</td>\n",
              "      <td>893</td>\n",
              "      <td>842</td>\n",
              "      <td>869</td>\n",
              "      <td>913</td>\n",
              "      <td>989</td>\n",
              "      <td>997</td>\n",
              "      <td>885</td>\n",
              "      <td>746</td>\n",
              "      <td>613</td>\n",
              "      <td>497</td>\n",
              "      <td>472</td>\n",
              "      <td>325</td>\n",
              "    </tr>\n",
              "    <tr>\n",
              "      <th>Sat</th>\n",
              "      <td>375</td>\n",
              "      <td>301</td>\n",
              "      <td>263</td>\n",
              "      <td>260</td>\n",
              "      <td>224</td>\n",
              "      <td>231</td>\n",
              "      <td>257</td>\n",
              "      <td>391</td>\n",
              "      <td>459</td>\n",
              "      <td>640</td>\n",
              "      <td>697</td>\n",
              "      <td>769</td>\n",
              "      <td>801</td>\n",
              "      <td>831</td>\n",
              "      <td>789</td>\n",
              "      <td>796</td>\n",
              "      <td>848</td>\n",
              "      <td>757</td>\n",
              "      <td>778</td>\n",
              "      <td>696</td>\n",
              "      <td>628</td>\n",
              "      <td>572</td>\n",
              "      <td>506</td>\n",
              "      <td>467</td>\n",
              "    </tr>\n",
              "    <tr>\n",
              "      <th>Sun</th>\n",
              "      <td>383</td>\n",
              "      <td>306</td>\n",
              "      <td>286</td>\n",
              "      <td>268</td>\n",
              "      <td>242</td>\n",
              "      <td>240</td>\n",
              "      <td>300</td>\n",
              "      <td>402</td>\n",
              "      <td>483</td>\n",
              "      <td>620</td>\n",
              "      <td>643</td>\n",
              "      <td>693</td>\n",
              "      <td>771</td>\n",
              "      <td>679</td>\n",
              "      <td>684</td>\n",
              "      <td>691</td>\n",
              "      <td>663</td>\n",
              "      <td>714</td>\n",
              "      <td>670</td>\n",
              "      <td>655</td>\n",
              "      <td>537</td>\n",
              "      <td>461</td>\n",
              "      <td>415</td>\n",
              "      <td>330</td>\n",
              "    </tr>\n",
              "    <tr>\n",
              "      <th>Thu</th>\n",
              "      <td>278</td>\n",
              "      <td>202</td>\n",
              "      <td>233</td>\n",
              "      <td>159</td>\n",
              "      <td>182</td>\n",
              "      <td>203</td>\n",
              "      <td>362</td>\n",
              "      <td>570</td>\n",
              "      <td>777</td>\n",
              "      <td>828</td>\n",
              "      <td>837</td>\n",
              "      <td>773</td>\n",
              "      <td>889</td>\n",
              "      <td>936</td>\n",
              "      <td>876</td>\n",
              "      <td>969</td>\n",
              "      <td>935</td>\n",
              "      <td>1013</td>\n",
              "      <td>810</td>\n",
              "      <td>698</td>\n",
              "      <td>617</td>\n",
              "      <td>553</td>\n",
              "      <td>424</td>\n",
              "      <td>354</td>\n",
              "    </tr>\n",
              "    <tr>\n",
              "      <th>Tue</th>\n",
              "      <td>269</td>\n",
              "      <td>240</td>\n",
              "      <td>186</td>\n",
              "      <td>170</td>\n",
              "      <td>209</td>\n",
              "      <td>239</td>\n",
              "      <td>415</td>\n",
              "      <td>655</td>\n",
              "      <td>889</td>\n",
              "      <td>880</td>\n",
              "      <td>840</td>\n",
              "      <td>838</td>\n",
              "      <td>887</td>\n",
              "      <td>917</td>\n",
              "      <td>943</td>\n",
              "      <td>938</td>\n",
              "      <td>1026</td>\n",
              "      <td>1019</td>\n",
              "      <td>905</td>\n",
              "      <td>731</td>\n",
              "      <td>647</td>\n",
              "      <td>571</td>\n",
              "      <td>462</td>\n",
              "      <td>274</td>\n",
              "    </tr>\n",
              "    <tr>\n",
              "      <th>Wed</th>\n",
              "      <td>250</td>\n",
              "      <td>216</td>\n",
              "      <td>189</td>\n",
              "      <td>209</td>\n",
              "      <td>156</td>\n",
              "      <td>255</td>\n",
              "      <td>410</td>\n",
              "      <td>701</td>\n",
              "      <td>875</td>\n",
              "      <td>808</td>\n",
              "      <td>800</td>\n",
              "      <td>789</td>\n",
              "      <td>903</td>\n",
              "      <td>872</td>\n",
              "      <td>904</td>\n",
              "      <td>867</td>\n",
              "      <td>990</td>\n",
              "      <td>1037</td>\n",
              "      <td>894</td>\n",
              "      <td>686</td>\n",
              "      <td>668</td>\n",
              "      <td>575</td>\n",
              "      <td>490</td>\n",
              "      <td>335</td>\n",
              "    </tr>\n",
              "  </tbody>\n",
              "</table>\n",
              "</div>"
            ],
            "text/plain": [
              "Hour        0    1    2    3    4    5   ...   18   19   20   21   22   23\n",
              "DayOfWeek                                ...                              \n",
              "Fri        275  235  191  175  201  194  ...  820  696  667  559  514  474\n",
              "Mon        282  221  201  194  204  267  ...  885  746  613  497  472  325\n",
              "Sat        375  301  263  260  224  231  ...  778  696  628  572  506  467\n",
              "Sun        383  306  286  268  242  240  ...  670  655  537  461  415  330\n",
              "Thu        278  202  233  159  182  203  ...  810  698  617  553  424  354\n",
              "Tue        269  240  186  170  209  239  ...  905  731  647  571  462  274\n",
              "Wed        250  216  189  209  156  255  ...  894  686  668  575  490  335\n",
              "\n",
              "[7 rows x 24 columns]"
            ]
          },
          "metadata": {
            "tags": []
          },
          "execution_count": 120
        }
      ]
    },
    {
      "cell_type": "markdown",
      "metadata": {
        "id": "Pi0vM6MfaCAb",
        "colab_type": "text"
      },
      "source": [
        "\n",
        "** Now create a HeatMap using this new DataFrame. **"
      ]
    },
    {
      "cell_type": "code",
      "metadata": {
        "id": "piGmMN4QaCAc",
        "colab_type": "code",
        "outputId": "8d0e58e2-9e06-4fbc-ce14-147395be4fa2",
        "colab": {
          "base_uri": "https://localhost:8080/",
          "height": 303
        }
      },
      "source": [
        "\n",
        "sn.heatmap(data.groupby(['DayOfWeek','Hour']).count().unstack()['lat'])\n"
      ],
      "execution_count": 121,
      "outputs": [
        {
          "output_type": "execute_result",
          "data": {
            "text/plain": [
              "<matplotlib.axes._subplots.AxesSubplot at 0x7f89910c7a20>"
            ]
          },
          "metadata": {
            "tags": []
          },
          "execution_count": 121
        },
        {
          "output_type": "display_data",
          "data": {
            "image/png": "[encoded data removed]",
            "text/plain": [
              "<Figure size 432x288 with 2 Axes>"
            ]
          },
          "metadata": {
            "tags": []
          }
        }
      ]
    },
    {
      "cell_type": "markdown",
      "metadata": {
        "id": "UxUaNboeaCAe",
        "colab_type": "text"
      },
      "source": [
        "** Now create a clustermap using this DataFrame. **"
      ]
    },
    {
      "cell_type": "code",
      "metadata": {
        "id": "sdERD_rdaCAf",
        "colab_type": "code",
        "outputId": "49393120-66ed-4e3e-a03e-f5f13efce5ad",
        "colab": {
          "base_uri": "https://localhost:8080/",
          "height": 623
        }
      },
      "source": [
        "sn.clustermap(data.groupby(['DayOfWeek','Hour']).count().unstack()['lat'])\n"
      ],
      "execution_count": 122,
      "outputs": [
        {
          "output_type": "execute_result",
          "data": {
            "text/plain": [
              "<seaborn.matrix.ClusterGrid at 0x7f8991393cc0>"
            ]
          },
          "metadata": {
            "tags": []
          },
          "execution_count": 122
        },
        {
          "output_type": "display_data",
          "data": {
            "image/png": "[encoded data removed]",
            "text/plain": [
              "<Figure size 720x720 with 4 Axes>"
            ]
          },
          "metadata": {
            "tags": []
          }
        }
      ]
    },
    {
      "cell_type": "markdown",
      "metadata": {
        "id": "-QeYcRUqaCAh",
        "colab_type": "text"
      },
      "source": [
        "** Now repeat these same plots and operations, for a DataFrame that shows the Month as the column. **"
      ]
    },
    {
      "cell_type": "code",
      "metadata": {
        "id": "CyZi7FN_aCAi",
        "colab_type": "code",
        "outputId": "da9065b0-764b-4073-d858-fe02ef164973",
        "colab": {
          "base_uri": "https://localhost:8080/",
          "height": 317
        }
      },
      "source": [
        "data.groupby(['DayOfWeek','Hour']).count().unstack()['Month']"
      ],
      "execution_count": 124,
      "outputs": [
        {
          "output_type": "execute_result",
          "data": {
            "text/html": [
              "<div>\n",
              "<style scoped>\n",
              "    .dataframe tbody tr th:only-of-type {\n",
              "        vertical-align: middle;\n",
              "    }\n",
              "\n",
              "    .dataframe tbody tr th {\n",
              "        vertical-align: top;\n",
              "    }\n",
              "\n",
              "    .dataframe thead th {\n",
              "        text-align: right;\n",
              "    }\n",
              "</style>\n",
              "<table border=\"1\" class=\"dataframe\">\n",
              "  <thead>\n",
              "    <tr style=\"text-align: right;\">\n",
              "      <th>Hour</th>\n",
              "      <th>0</th>\n",
              "      <th>1</th>\n",
              "      <th>2</th>\n",
              "      <th>3</th>\n",
              "      <th>4</th>\n",
              "      <th>5</th>\n",
              "      <th>6</th>\n",
              "      <th>7</th>\n",
              "      <th>8</th>\n",
              "      <th>9</th>\n",
              "      <th>10</th>\n",
              "      <th>11</th>\n",
              "      <th>12</th>\n",
              "      <th>13</th>\n",
              "      <th>14</th>\n",
              "      <th>15</th>\n",
              "      <th>16</th>\n",
              "      <th>17</th>\n",
              "      <th>18</th>\n",
              "      <th>19</th>\n",
              "      <th>20</th>\n",
              "      <th>21</th>\n",
              "      <th>22</th>\n",
              "      <th>23</th>\n",
              "    </tr>\n",
              "    <tr>\n",
              "      <th>DayOfWeek</th>\n",
              "      <th></th>\n",
              "      <th></th>\n",
              "      <th></th>\n",
              "      <th></th>\n",
              "      <th></th>\n",
              "      <th></th>\n",
              "      <th></th>\n",
              "      <th></th>\n",
              "      <th></th>\n",
              "      <th></th>\n",
              "      <th></th>\n",
              "      <th></th>\n",
              "      <th></th>\n",
              "      <th></th>\n",
              "      <th></th>\n",
              "      <th></th>\n",
              "      <th></th>\n",
              "      <th></th>\n",
              "      <th></th>\n",
              "      <th></th>\n",
              "      <th></th>\n",
              "      <th></th>\n",
              "      <th></th>\n",
              "      <th></th>\n",
              "    </tr>\n",
              "  </thead>\n",
              "  <tbody>\n",
              "    <tr>\n",
              "      <th>Fri</th>\n",
              "      <td>275</td>\n",
              "      <td>235</td>\n",
              "      <td>191</td>\n",
              "      <td>175</td>\n",
              "      <td>201</td>\n",
              "      <td>194</td>\n",
              "      <td>372</td>\n",
              "      <td>598</td>\n",
              "      <td>742</td>\n",
              "      <td>752</td>\n",
              "      <td>803</td>\n",
              "      <td>859</td>\n",
              "      <td>885</td>\n",
              "      <td>890</td>\n",
              "      <td>932</td>\n",
              "      <td>980</td>\n",
              "      <td>1039</td>\n",
              "      <td>980</td>\n",
              "      <td>820</td>\n",
              "      <td>696</td>\n",
              "      <td>667</td>\n",
              "      <td>559</td>\n",
              "      <td>514</td>\n",
              "      <td>474</td>\n",
              "    </tr>\n",
              "    <tr>\n",
              "      <th>Mon</th>\n",
              "      <td>282</td>\n",
              "      <td>221</td>\n",
              "      <td>201</td>\n",
              "      <td>194</td>\n",
              "      <td>204</td>\n",
              "      <td>267</td>\n",
              "      <td>397</td>\n",
              "      <td>653</td>\n",
              "      <td>819</td>\n",
              "      <td>786</td>\n",
              "      <td>793</td>\n",
              "      <td>822</td>\n",
              "      <td>893</td>\n",
              "      <td>842</td>\n",
              "      <td>869</td>\n",
              "      <td>913</td>\n",
              "      <td>989</td>\n",
              "      <td>997</td>\n",
              "      <td>885</td>\n",
              "      <td>746</td>\n",
              "      <td>613</td>\n",
              "      <td>497</td>\n",
              "      <td>472</td>\n",
              "      <td>325</td>\n",
              "    </tr>\n",
              "    <tr>\n",
              "      <th>Sat</th>\n",
              "      <td>375</td>\n",
              "      <td>301</td>\n",
              "      <td>263</td>\n",
              "      <td>260</td>\n",
              "      <td>224</td>\n",
              "      <td>231</td>\n",
              "      <td>257</td>\n",
              "      <td>391</td>\n",
              "      <td>459</td>\n",
              "      <td>640</td>\n",
              "      <td>697</td>\n",
              "      <td>769</td>\n",
              "      <td>801</td>\n",
              "      <td>831</td>\n",
              "      <td>789</td>\n",
              "      <td>796</td>\n",
              "      <td>848</td>\n",
              "      <td>757</td>\n",
              "      <td>778</td>\n",
              "      <td>696</td>\n",
              "      <td>628</td>\n",
              "      <td>572</td>\n",
              "      <td>506</td>\n",
              "      <td>467</td>\n",
              "    </tr>\n",
              "    <tr>\n",
              "      <th>Sun</th>\n",
              "      <td>383</td>\n",
              "      <td>306</td>\n",
              "      <td>286</td>\n",
              "      <td>268</td>\n",
              "      <td>242</td>\n",
              "      <td>240</td>\n",
              "      <td>300</td>\n",
              "      <td>402</td>\n",
              "      <td>483</td>\n",
              "      <td>620</td>\n",
              "      <td>643</td>\n",
              "      <td>693</td>\n",
              "      <td>771</td>\n",
              "      <td>679</td>\n",
              "      <td>684</td>\n",
              "      <td>691</td>\n",
              "      <td>663</td>\n",
              "      <td>714</td>\n",
              "      <td>670</td>\n",
              "      <td>655</td>\n",
              "      <td>537</td>\n",
              "      <td>461</td>\n",
              "      <td>415</td>\n",
              "      <td>330</td>\n",
              "    </tr>\n",
              "    <tr>\n",
              "      <th>Thu</th>\n",
              "      <td>278</td>\n",
              "      <td>202</td>\n",
              "      <td>233</td>\n",
              "      <td>159</td>\n",
              "      <td>182</td>\n",
              "      <td>203</td>\n",
              "      <td>362</td>\n",
              "      <td>570</td>\n",
              "      <td>777</td>\n",
              "      <td>828</td>\n",
              "      <td>837</td>\n",
              "      <td>773</td>\n",
              "      <td>889</td>\n",
              "      <td>936</td>\n",
              "      <td>876</td>\n",
              "      <td>969</td>\n",
              "      <td>935</td>\n",
              "      <td>1013</td>\n",
              "      <td>810</td>\n",
              "      <td>698</td>\n",
              "      <td>617</td>\n",
              "      <td>553</td>\n",
              "      <td>424</td>\n",
              "      <td>354</td>\n",
              "    </tr>\n",
              "    <tr>\n",
              "      <th>Tue</th>\n",
              "      <td>269</td>\n",
              "      <td>240</td>\n",
              "      <td>186</td>\n",
              "      <td>170</td>\n",
              "      <td>209</td>\n",
              "      <td>239</td>\n",
              "      <td>415</td>\n",
              "      <td>655</td>\n",
              "      <td>889</td>\n",
              "      <td>880</td>\n",
              "      <td>840</td>\n",
              "      <td>838</td>\n",
              "      <td>887</td>\n",
              "      <td>917</td>\n",
              "      <td>943</td>\n",
              "      <td>938</td>\n",
              "      <td>1026</td>\n",
              "      <td>1019</td>\n",
              "      <td>905</td>\n",
              "      <td>731</td>\n",
              "      <td>647</td>\n",
              "      <td>571</td>\n",
              "      <td>462</td>\n",
              "      <td>274</td>\n",
              "    </tr>\n",
              "    <tr>\n",
              "      <th>Wed</th>\n",
              "      <td>250</td>\n",
              "      <td>216</td>\n",
              "      <td>189</td>\n",
              "      <td>209</td>\n",
              "      <td>156</td>\n",
              "      <td>255</td>\n",
              "      <td>410</td>\n",
              "      <td>701</td>\n",
              "      <td>875</td>\n",
              "      <td>808</td>\n",
              "      <td>800</td>\n",
              "      <td>789</td>\n",
              "      <td>903</td>\n",
              "      <td>872</td>\n",
              "      <td>904</td>\n",
              "      <td>867</td>\n",
              "      <td>990</td>\n",
              "      <td>1037</td>\n",
              "      <td>894</td>\n",
              "      <td>686</td>\n",
              "      <td>668</td>\n",
              "      <td>575</td>\n",
              "      <td>490</td>\n",
              "      <td>335</td>\n",
              "    </tr>\n",
              "  </tbody>\n",
              "</table>\n",
              "</div>"
            ],
            "text/plain": [
              "Hour        0    1    2    3    4    5   ...   18   19   20   21   22   23\n",
              "DayOfWeek                                ...                              \n",
              "Fri        275  235  191  175  201  194  ...  820  696  667  559  514  474\n",
              "Mon        282  221  201  194  204  267  ...  885  746  613  497  472  325\n",
              "Sat        375  301  263  260  224  231  ...  778  696  628  572  506  467\n",
              "Sun        383  306  286  268  242  240  ...  670  655  537  461  415  330\n",
              "Thu        278  202  233  159  182  203  ...  810  698  617  553  424  354\n",
              "Tue        269  240  186  170  209  239  ...  905  731  647  571  462  274\n",
              "Wed        250  216  189  209  156  255  ...  894  686  668  575  490  335\n",
              "\n",
              "[7 rows x 24 columns]"
            ]
          },
          "metadata": {
            "tags": []
          },
          "execution_count": 124
        }
      ]
    },
    {
      "cell_type": "code",
      "metadata": {
        "id": "iu88LaHAaCAl",
        "colab_type": "code",
        "outputId": "b371d38a-c262-4df3-a019-a06d1b2ef4b3",
        "colab": {
          "base_uri": "https://localhost:8080/",
          "height": 303
        }
      },
      "source": [
        "sn.heatmap(data.groupby(['DayOfWeek','Hour']).count().unstack()['Month'])\n"
      ],
      "execution_count": 125,
      "outputs": [
        {
          "output_type": "execute_result",
          "data": {
            "text/plain": [
              "<matplotlib.axes._subplots.AxesSubplot at 0x7f89924b6b00>"
            ]
          },
          "metadata": {
            "tags": []
          },
          "execution_count": 125
        },
        {
          "output_type": "display_data",
          "data": {
            "image/png": "[encoded data removed]",
            "text/plain": [
              "<Figure size 432x288 with 2 Axes>"
            ]
          },
          "metadata": {
            "tags": []
          }
        }
      ]
    },
    {
      "cell_type": "code",
      "metadata": {
        "id": "RfzaR4jGaCAm",
        "colab_type": "code",
        "outputId": "17a4c571-fb9d-40a4-e0dd-7440f091e53b",
        "colab": {
          "base_uri": "https://localhost:8080/",
          "height": 623
        }
      },
      "source": [
        "sn.clustermap(data.groupby(['DayOfWeek','Hour']).count().unstack()['Month'])\n"
      ],
      "execution_count": 126,
      "outputs": [
        {
          "output_type": "execute_result",
          "data": {
            "text/plain": [
              "<seaborn.matrix.ClusterGrid at 0x7f89910c7128>"
            ]
          },
          "metadata": {
            "tags": []
          },
          "execution_count": 126
        },
        {
          "output_type": "display_data",
          "data": {
            "image/png": "[encoded data removed]",
            "text/plain": [
              "<Figure size 720x720 with 4 Axes>"
            ]
          },
          "metadata": {
            "tags": []
          }
        }
      ]
    },
    {
      "cell_type": "markdown",
      "metadata": {
        "collapsed": true,
        "id": "yncZC9AFaCAo",
        "colab_type": "text"
      },
      "source": [
        "** *italicized text*Continue exploring the Data however you see fit!**\n",
        "# Great Job!"
      ]
    }
  ]
}